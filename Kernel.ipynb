{
 "cells": [
  {
   "cell_type": "code",
   "execution_count": 1,
   "metadata": {
    "collapsed": true
   },
   "outputs": [],
   "source": [
    "import numpy as np\n",
    "from scipy.spatial.distance import cdist\n",
    "import pandas as pd"
   ]
  },
  {
   "cell_type": "code",
   "execution_count": 2,
   "metadata": {
    "collapsed": true
   },
   "outputs": [],
   "source": [
    "def rbf_kernel(X, sigma):\n",
    "    K = np.zeros([X.shape[0], X.shape[0]])\n",
    "\n",
    "    for i, xi in X.iterrows():\n",
    "        for j, xj in X.iterrows():\n",
    "            K[i, j] = np.exp(-cdist(xi, xj, 'sqeuclidean') / (sigma ** 2))\n",
    "\n",
    "    return K"
   ]
  },
  {
   "cell_type": "code",
   "execution_count": null,
   "metadata": {
    "collapsed": true
   },
   "outputs": [],
   "source": [
    "X = np.random.randn(2, 2)\n",
    "print(X)\n",
    "X = pd.DataFrame(data=X, index=np.arange(X.shape[0]), columns=np.arange(X.shape[1]))\n",
    "sigma = 0.2\n",
    "print(X)\n",
    "K = rbf_kernel(X, sigma)\n",
    "print(K)\n",
    "\n",
    "D = np.sum(K, axis=1)\n",
    "D_inv = np.linalg.inv(np.diagonal(D))"
   ]
  }
 ],
 "metadata": {
  "kernelspec": {
   "display_name": "Python 3",
   "language": "python",
   "name": "python3"
  },
  "language_info": {
   "codemirror_mode": {
    "name": "ipython",
    "version": 3
   },
   "file_extension": ".py",
   "mimetype": "text/x-python",
   "name": "python",
   "nbconvert_exporter": "python",
   "pygments_lexer": "ipython3",
   "version": "3.6.1"
  }
 },
 "nbformat": 4,
 "nbformat_minor": 2
}
