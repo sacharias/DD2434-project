{
 "cells": [
  {
   "cell_type": "code",
   "execution_count": null,
   "metadata": {},
   "outputs": [],
   "source": [
    "import h5py\n",
    "import random\n",
    "import numpy as np\n",
    "import matplotlib.pyplot as plt\n",
    "\n",
    "\n",
    "def test_different_levels():\n",
    "    \n",
    "    #2000 data points\n",
    "    #X,y=load_digits_data()\n",
    "\n",
    "    #split data into 10 buckets\n",
    "    #X_split=np.split(X,20)\n",
    "    #y_split=np.split(y,20)\n",
    "    \n",
    "    #smallest number of labelled data points \n",
    "    n0=2\n",
    "    #largest number of lablled data points\n",
    "    n0=100\n",
    "    test_results=[{\"transfer_function\":\"linear\",\"n_labelled\":np.arange(n0,n1+1),\"results\":,np.ones((n1-n0,))},\n",
    "                  {\"transfer_function\":\"step\",\"n_labelled\":np.arange(n0,n1+1),\"results\":np.ones((n1-n0,))},\n",
    "                  {\"transfer_function\":\"linear_step\",\"n_labelled\":np.arange(n0,n1+1),\"results\":np.ones((n1-n0,))},\n",
    "                  {\"transfer_function\":\"polynomial\",\"n_labelled\":np.arange(n0,n1+1),\"results\":np.ones((n1-n0,))}\n",
    "                 ]\n",
    "    \n",
    "    #get errors\n",
    "    for n_labelled in range(n0,n1,):\n",
    "        for func in test_results:\n",
    "            func[\"results\"][n_lablled]=get_error(X, y, sigma, C,n_train,n_unlabel,n_test,tf_fun=func[\"transfer_function\"])\n",
    "\n",
    "    #plot stuff\n",
    "    plt.plot(test_results[\"transfer_function\"==\"linear\",][\"n_labelled\"],test_results[\"transfer_function\"==\"linear\",][\"results\"],linestyle='solid',label=\"linear\")\n",
    "    plt.plot(test_results[\"transfer_function\"==\"step\",][\"n_labelled\"],test_results[\"transfer_function\"==\"step\",][\"results\"],linestyle='dashed',label=\"step\")\n",
    "    plt.plot(test_results[\"transfer_function\"==\"linear_step\",][\"n_labelled\"],test_results[\"transfer_function\"==\"linear_step\",][\"results\"],linestyle='dashdot',label=\"linear_step\")\n",
    "    plt.plot(test_results[\"transfer_function\"==\"polynomial\",][\"n_labelled\"],test_results[\"transfer_function\"==\"polynomial\",][\"results\"],linestyle='dotted',label=\"polynomial\")\n",
    "    plt.show()\n",
    "    \n",
    "tests_digits()"
   ]
  }
 ],
 "metadata": {
  "kernelspec": {
   "display_name": "Python 3",
   "language": "python",
   "name": "python3"
  },
  "language_info": {
   "codemirror_mode": {
    "name": "ipython",
    "version": 3
   },
   "file_extension": ".py",
   "mimetype": "text/x-python",
   "name": "python",
   "nbconvert_exporter": "python",
   "pygments_lexer": "ipython3",
   "version": "3.7.4"
  }
 },
 "nbformat": 4,
 "nbformat_minor": 2
}
