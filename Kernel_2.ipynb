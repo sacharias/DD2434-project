{
 "cells": [
  {
   "cell_type": "markdown",
   "metadata": {},
   "source": [
    "# Kernel imp 2"
   ]
  },
  {
   "cell_type": "code",
   "execution_count": 1,
   "metadata": {
    "collapsed": true
   },
   "outputs": [],
   "source": [
    "import numpy as np\n",
    "from scipy.spatial.distance import cdist\n",
    "import pandas as pd\n",
    "from sklearn.datasets import load_iris\n",
    "from sklearn.svm import SVC\n",
    "import matplotlib.pyplot as plt\n",
    "from numpy import linalg as LA\n",
    "from sklearn.model_selection import train_test_split\n",
    "from sklearn.metrics import classification_report, confusion_matrix\n",
    "\n",
    "# hyperparameters: Kernel, Regularization, Gamma"
   ]
  },
  {
   "cell_type": "raw",
   "metadata": {},
   "source": [
    "# load toy dataset, 2 classes (50 samples each), 2 features\n",
    "data = load_iris()\n",
    "X = data.data\n",
    "Y = data.target\n",
    "X = data.data[Y != 2]\n",
    "Y = data.target[Y != 2]\n"
   ]
  },
  {
   "cell_type": "code",
   "execution_count": 23,
   "metadata": {},
   "outputs": [],
   "source": [
    "# load new data\n",
    "bankdata = pd.read_csv(\"Dataset/bill_authentication.csv\")\n",
    "# bankdata.shape\n",
    "\n",
    "X = bankdata.drop('Class', axis=1)\n",
    "y = bankdata['Class']\n",
    "\n",
    "X_train, X_test, y_train, y_test = train_test_split(X, y, test_size=0.2)\n",
    "\n",
    "# print(X_test)"
   ]
  },
  {
   "cell_type": "code",
   "execution_count": 6,
   "metadata": {},
   "outputs": [],
   "source": [
    "svclassifier = SVC(kernel=\"linear\")\n",
    "svclassifier.fit(X_train, y_train)"
   ]
  },
  {
   "cell_type": "code",
   "execution_count": 12,
   "metadata": {},
   "outputs": [
    {
     "name": "stdout",
     "output_type": "stream",
     "text": [
      "test size 275\n",
      "[[145   0]\n",
      " [  0 130]]\n",
      "              precision    recall  f1-score   support\n",
      "\n",
      "           0       1.00      1.00      1.00       145\n",
      "           1       1.00      1.00      1.00       130\n",
      "\n",
      "   micro avg       1.00      1.00      1.00       275\n",
      "   macro avg       1.00      1.00      1.00       275\n",
      "weighted avg       1.00      1.00      1.00       275\n",
      "\n"
     ]
    }
   ],
   "source": [
    "print(\"test size\", len(X_test))\n",
    "y_pred = svclassifier.predict(X_test)\n",
    "\n",
    "print(confusion_matrix(y_test, y_pred))\n",
    "print(classification_report(y_test,y_pred))\n",
    "\n"
   ]
  },
  {
   "cell_type": "code",
   "execution_count": 92,
   "metadata": {},
   "outputs": [
    {
     "name": "stdout",
     "output_type": "stream",
     "text": [
      "10\n",
      "[[42  2]\n",
      " [ 0 46]]\n",
      "              precision    recall  f1-score   support\n",
      "\n",
      "           1       1.00      0.95      0.98        44\n",
      "           2       0.96      1.00      0.98        46\n",
      "\n",
      "   micro avg       0.98      0.98      0.98        90\n",
      "   macro avg       0.98      0.98      0.98        90\n",
      "weighted avg       0.98      0.98      0.98        90\n",
      "\n"
     ]
    }
   ],
   "source": [
    "# load iris\n",
    "iris = load_iris()\n",
    "X = iris.data[:,:2]\n",
    "y = iris.target\n",
    "\n",
    "X = iris.data[y != 0]\n",
    "y = iris.target[y != 0]\n",
    "\n",
    "X_train, X_test, y_train, y_test = train_test_split(X, y, test_size=0.9)\n",
    "\n",
    "print(len(y_train))\n",
    "svc2 = SVC(kernel=\"linear\", gamma=\"scale\")\n",
    "svc2.fit(X_train, y_train)\n",
    "\n",
    "y_pred = svc2.predict(X_test)\n",
    "\n",
    "print(confusion_matrix(y_test, y_pred))\n",
    "print(classification_report(y_test, y_pred))"
   ]
  },
  {
   "cell_type": "code",
   "execution_count": 93,
   "metadata": {},
   "outputs": [
    {
     "name": "stdout",
     "output_type": "stream",
     "text": [
      "[[43  1]\n",
      " [11 35]]\n",
      "              precision    recall  f1-score   support\n",
      "\n",
      "           1       0.80      0.98      0.88        44\n",
      "           2       0.97      0.76      0.85        46\n",
      "\n",
      "   micro avg       0.87      0.87      0.87        90\n",
      "   macro avg       0.88      0.87      0.87        90\n",
      "weighted avg       0.89      0.87      0.87        90\n",
      "\n"
     ]
    }
   ],
   "source": [
    "n_samples_train = len(X_train)\n",
    "# print(n_samples_train)\n",
    "X_K = np.concatenate((X_train, X_test))\n",
    "\n",
    "K = rbf_kernel(X_K, 1)\n",
    "D = make_D_matrix(K)\n",
    "L = make_L_matrix(K, D)\n",
    "\n",
    "L, D, K = apply_transfer_func(L, D, K)\n",
    "\n",
    "K_train = K[:n_samples_train,:n_samples_train]\n",
    "K_test = K[n_samples_train:, :n_samples_train]\n",
    "\n",
    "svc_k = SVC(kernel=\"precomputed\", gamma=\"scale\")\n",
    "svc_k.fit(K_train, y_train)\n",
    "\n",
    "y_pred_k = svc_k.predict(K_test)\n",
    "\n",
    "print(confusion_matrix(y_test, y_pred_k))\n",
    "print(classification_report(y_test, y_pred_k))\n"
   ]
  },
  {
   "cell_type": "code",
   "execution_count": 32,
   "metadata": {},
   "outputs": [
    {
     "data": {
      "text/plain": [
       "(100, 4)"
      ]
     },
     "execution_count": 32,
     "metadata": {},
     "output_type": "execute_result"
    }
   ],
   "source": [
    "X_K.shape"
   ]
  },
  {
   "cell_type": "code",
   "execution_count": null,
   "metadata": {},
   "outputs": [],
   "source": [
    "\n",
    "\n",
    "\n",
    "\n",
    "\n",
    "\n",
    "\n",
    "\n",
    "\n",
    "    \n",
    "    # Make Kernel\n",
    "    K = rbf_kernel(X, 1)\n",
    "    D = make_D_matrix(K)\n",
    "    L = make_L_matrix(K, D)\n",
    "    \n",
    "    L, D, K = apply_transfer_func(L, D, K)\n",
    "    \n",
    "    # Remove data without labels\n",
    "    K_red = K[:70,:70]\n",
    "    Y_red = Y[:70]\n",
    "    \n",
    "    K_test = K[70:100,:70]\n",
    "    \n",
    "    print(K_red.shape)\n",
    "    \n",
    "    # Apply to SVM\n",
    "    clf = svm.SVC(kernel=\"precomputed\", C=1)\n",
    "    clf.fit(K_red, Y_red)\n",
    "    \n",
    "    # Predict and accuracy\n",
    "    y_pred = clf.predict(K_test)\n",
    "    \n",
    "    #print('t', Y[70:100])\n",
    "    #print('y', y_pred)\n",
    "    print(\"accuracy:\", accuracy(y_pred, Y[70:100]))\n",
    "    \n",
    "    \n",
    "    # Basic SVM\n",
    "    clf2 = svm.SVC(kernel=\"linear\", C=1)\n",
    "    clf2.fit(X[:70], Y_red)\n",
    "    \n",
    "    y_pred2 = clf2.predict(X[70:100])\n",
    "    print(\"accuracy:\", accuracy(y_pred2, Y[70:100]))\n"
   ]
  },
  {
   "cell_type": "markdown",
   "metadata": {},
   "source": [
    "## 2.3 kernel induced by a clustered representation"
   ]
  },
  {
   "cell_type": "code",
   "execution_count": 70,
   "metadata": {},
   "outputs": [],
   "source": [
    "def rbf_kernel(X, sigma, diag=1):\n",
    "    N = X.shape[0]\n",
    "    K = np.zeros((N,N))\n",
    "\n",
    "    for i in range(N):\n",
    "        for j in range(N):\n",
    "            if i == j:\n",
    "                K[i,j] = diag\n",
    "            else:\n",
    "                x_i = X[i, :].reshape(1,-1)\n",
    "                x_j = X[j, :].reshape(1,-1)\n",
    "\n",
    "                K[i, j] = np.exp(-cdist(x_i, x_j, 'sqeuclidean') / (sigma ** 2)) # euclidean?\n",
    "    return K\n",
    "\n",
    "\n",
    "def make_D_matrix(K):\n",
    "    K_sum = np.sum(K, axis=1)\n",
    "    D = np.diag(K_sum)\n",
    "\n",
    "    return D\n",
    "\n",
    "\n",
    "def make_L_matrix(K, D):\n",
    "    D_temp = np.diag( np.diag(D) ** -0.5 )\n",
    "    L = D_temp @ K @ D_temp\n",
    "    \n",
    "    w, v = LA.eig(L) # w = eigenvalues, v = normalized (unit “length”) eigenvectors\n",
    "    \n",
    "    return L\n",
    "\n",
    "def step_transfer(L, lambda_cut):\n",
    "    w, v = LA.eig(L) # w = eigenvalues\n",
    "    return np.where(w > lambda_cut, 1, 0)\n",
    "\n",
    "def apply_transfer_func(L, D, K, type=\"linear\"):\n",
    "    if type == \"linear\":\n",
    "        return L, D, K\n",
    "    if type == \"step\":\n",
    "        None\n",
    "        \n",
    "    L_hat = 0\n",
    "    D_hat = 0\n",
    "    K_hat = 0\n",
    "    \n",
    "    return L_hat, D_hat, K_hat\n",
    "\n",
    "\n",
    "def test_run(X):\n",
    "    X = X[:3, :] # \"testing with a small X\"\n",
    "    \n",
    "    K = rbf_kernel(X, 1)\n",
    "    D = make_D_matrix(K)\n",
    "    L = make_L_matrix(K, D)\n",
    "    \n",
    "    L, D, K = apply_transfer_func(L, D, K)\n",
    "    \n",
    "    # print(K, \"\\n\\n\", D, \"\\n\\n\", L)    \n",
    "\n",
    "\n",
    "\n",
    "# test_run(X)   "
   ]
  },
  {
   "cell_type": "code",
   "execution_count": 11,
   "metadata": {},
   "outputs": [
    {
     "name": "stdout",
     "output_type": "stream",
     "text": [
      "(70, 70)\n",
      "accuracy: 1.0\n",
      "accuracy: 1.0\n"
     ]
    }
   ],
   "source": [
    "# Basic SVM with predefined kernel matrix\n",
    "\n",
    "def accuracy(t, y):\n",
    "    val = 0.0\n",
    "    N = len(t)\n",
    "    for i in range(N):\n",
    "        if t[i] == y[i]:\n",
    "            val += 1\n",
    "    \n",
    "    return val / N\n",
    "\n",
    "\n",
    "def test_svm(X, Y):\n",
    "    # Shuffle data\n",
    "    np.random.seed(40)\n",
    "    n_sample = len(X)\n",
    "    order = np.random.permutation(n_sample)\n",
    "    X = X[order]\n",
    "    Y = Y[order].astype(np.float)\n",
    "    \n",
    "    # Make Kernel\n",
    "    K = rbf_kernel(X, 1)\n",
    "    D = make_D_matrix(K)\n",
    "    L = make_L_matrix(K, D)\n",
    "    \n",
    "    L, D, K = apply_transfer_func(L, D, K)\n",
    "    \n",
    "    # Remove data without labels\n",
    "    K_red = K[:70,:70]\n",
    "    Y_red = Y[:70]\n",
    "    \n",
    "    K_test = K[70:100,:70]\n",
    "    \n",
    "    print(K_red.shape)\n",
    "    \n",
    "    # Apply to SVM\n",
    "    clf = svm.SVC(kernel=\"precomputed\", C=1)\n",
    "    clf.fit(K_red, Y_red)\n",
    "    \n",
    "    # Predict and accuracy\n",
    "    y_pred = clf.predict(K_test)\n",
    "    \n",
    "    #print('t', Y[70:100])\n",
    "    #print('y', y_pred)\n",
    "    print(\"accuracy:\", accuracy(y_pred, Y[70:100]))\n",
    "    \n",
    "    \n",
    "    # Basic SVM\n",
    "    clf2 = svm.SVC(kernel=\"linear\", C=1)\n",
    "    clf2.fit(X[:70], Y_red)\n",
    "    \n",
    "    y_pred2 = clf2.predict(X[70:100])\n",
    "    print(\"accuracy:\", accuracy(y_pred2, Y[70:100]))\n",
    "\n",
    "    \n",
    "test_svm(X, Y)\n"
   ]
  },
  {
   "cell_type": "code",
   "execution_count": null,
   "metadata": {
    "collapsed": true
   },
   "outputs": [],
   "source": []
  }
 ],
 "metadata": {
  "kernelspec": {
   "display_name": "Python 3",
   "language": "python",
   "name": "python3"
  },
  "language_info": {
   "codemirror_mode": {
    "name": "ipython",
    "version": 3
   },
   "file_extension": ".py",
   "mimetype": "text/x-python",
   "name": "python",
   "nbconvert_exporter": "python",
   "pygments_lexer": "ipython3",
   "version": "3.7.3"
  }
 },
 "nbformat": 4,
 "nbformat_minor": 2
}
